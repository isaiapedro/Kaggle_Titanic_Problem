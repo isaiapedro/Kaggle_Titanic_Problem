{
 "cells": [
  {
   "cell_type": "markdown",
   "id": "075b67e5",
   "metadata": {},
   "source": [
    "[Code made by \"Ryan & Matt Data Science\" in the video below]"
   ]
  },
  {
   "cell_type": "markdown",
   "id": "4fce72a8",
   "metadata": {},
   "source": [
    "https://www.youtube.com/watch?v=6IGx7ZZdS74"
   ]
  },
  {
   "cell_type": "markdown",
   "id": "a41c6ff1",
   "metadata": {},
   "source": [
    "### Imported Libraries"
   ]
  },
  {
   "cell_type": "code",
   "execution_count": 5,
   "id": "784ec942",
   "metadata": {},
   "outputs": [],
   "source": [
    "import pandas as pd\n",
    "import numpy as np\n",
    "\n",
    "import seaborn as sns\n",
    "import matplotlib.pyplot as plt\n",
    "%matplotlib inline\n",
    "\n",
    "from sklearn.preprocessing import OrdinalEncoder, OneHotEncoder\n",
    "\n",
    "from sklearn.impute import SimpleImputer\n",
    "\n",
    "from sklearn.compose import make_column_transformer, ColumnTransformer\n",
    "from sklearn.pipeline import Pipeline, make_pipeline\n",
    "\n",
    "from sklearn.linear_model import LogisticRegression\n",
    "from sklearn.svm import SVC\n",
    "from sklearn.tree import DecisionTreeClassifier\n",
    "from sklearn.neighbors import KNeighborsClassifier\n",
    "from sklearn.naive_bayes import GaussianNB\n",
    "from xgboost import XGBClassifier\n",
    "from sklearn.ensemble import RandomForestClassifier, AdaBoostClassifier, GradientBoostingClassifier, ExtraTreesClassifier, VotingClassifier\n",
    "\n",
    "\n",
    "from sklearn.model_selection import cross_val_score, StratifiedKFold, train_test_split, GridSearchCV"
   ]
  },
  {
   "cell_type": "code",
   "execution_count": 7,
   "id": "486e030c",
   "metadata": {},
   "outputs": [],
   "source": [
    "train_df = pd.read_csv('train.csv')\n",
    "test_df = pd.read_csv('test.csv')"
   ]
  },
  {
   "cell_type": "markdown",
   "id": "a954183f",
   "metadata": {},
   "source": [
    "### Data Analysis"
   ]
  },
  {
   "cell_type": "code",
   "execution_count": 8,
   "id": "84b1ffaf",
   "metadata": {},
   "outputs": [
    {
     "data": {
      "application/vnd.microsoft.datawrangler.viewer.v0+json": {
       "columns": [
        {
         "name": "index",
         "rawType": "int64",
         "type": "integer"
        },
        {
         "name": "PassengerId",
         "rawType": "int64",
         "type": "integer"
        },
        {
         "name": "Survived",
         "rawType": "int64",
         "type": "integer"
        },
        {
         "name": "Pclass",
         "rawType": "int64",
         "type": "integer"
        },
        {
         "name": "Name",
         "rawType": "object",
         "type": "string"
        },
        {
         "name": "Sex",
         "rawType": "object",
         "type": "string"
        },
        {
         "name": "Age",
         "rawType": "float64",
         "type": "float"
        },
        {
         "name": "SibSp",
         "rawType": "int64",
         "type": "integer"
        },
        {
         "name": "Parch",
         "rawType": "int64",
         "type": "integer"
        },
        {
         "name": "Ticket",
         "rawType": "object",
         "type": "string"
        },
        {
         "name": "Fare",
         "rawType": "float64",
         "type": "float"
        },
        {
         "name": "Cabin",
         "rawType": "object",
         "type": "unknown"
        },
        {
         "name": "Embarked",
         "rawType": "object",
         "type": "string"
        }
       ],
       "ref": "125c980a-fa8b-4a44-9421-220da9876a15",
       "rows": [
        [
         "0",
         "1",
         "0",
         "3",
         "Braund, Mr. Owen Harris",
         "male",
         "22.0",
         "1",
         "0",
         "A/5 21171",
         "7.25",
         null,
         "S"
        ],
        [
         "1",
         "2",
         "1",
         "1",
         "Cumings, Mrs. John Bradley (Florence Briggs Thayer)",
         "female",
         "38.0",
         "1",
         "0",
         "PC 17599",
         "71.2833",
         "C85",
         "C"
        ],
        [
         "2",
         "3",
         "1",
         "3",
         "Heikkinen, Miss. Laina",
         "female",
         "26.0",
         "0",
         "0",
         "STON/O2. 3101282",
         "7.925",
         null,
         "S"
        ],
        [
         "3",
         "4",
         "1",
         "1",
         "Futrelle, Mrs. Jacques Heath (Lily May Peel)",
         "female",
         "35.0",
         "1",
         "0",
         "113803",
         "53.1",
         "C123",
         "S"
        ],
        [
         "4",
         "5",
         "0",
         "3",
         "Allen, Mr. William Henry",
         "male",
         "35.0",
         "0",
         "0",
         "373450",
         "8.05",
         null,
         "S"
        ]
       ],
       "shape": {
        "columns": 12,
        "rows": 5
       }
      },
      "text/html": [
       "<div>\n",
       "<style scoped>\n",
       "    .dataframe tbody tr th:only-of-type {\n",
       "        vertical-align: middle;\n",
       "    }\n",
       "\n",
       "    .dataframe tbody tr th {\n",
       "        vertical-align: top;\n",
       "    }\n",
       "\n",
       "    .dataframe thead th {\n",
       "        text-align: right;\n",
       "    }\n",
       "</style>\n",
       "<table border=\"1\" class=\"dataframe\">\n",
       "  <thead>\n",
       "    <tr style=\"text-align: right;\">\n",
       "      <th></th>\n",
       "      <th>PassengerId</th>\n",
       "      <th>Survived</th>\n",
       "      <th>Pclass</th>\n",
       "      <th>Name</th>\n",
       "      <th>Sex</th>\n",
       "      <th>Age</th>\n",
       "      <th>SibSp</th>\n",
       "      <th>Parch</th>\n",
       "      <th>Ticket</th>\n",
       "      <th>Fare</th>\n",
       "      <th>Cabin</th>\n",
       "      <th>Embarked</th>\n",
       "    </tr>\n",
       "  </thead>\n",
       "  <tbody>\n",
       "    <tr>\n",
       "      <th>0</th>\n",
       "      <td>1</td>\n",
       "      <td>0</td>\n",
       "      <td>3</td>\n",
       "      <td>Braund, Mr. Owen Harris</td>\n",
       "      <td>male</td>\n",
       "      <td>22.0</td>\n",
       "      <td>1</td>\n",
       "      <td>0</td>\n",
       "      <td>A/5 21171</td>\n",
       "      <td>7.2500</td>\n",
       "      <td>NaN</td>\n",
       "      <td>S</td>\n",
       "    </tr>\n",
       "    <tr>\n",
       "      <th>1</th>\n",
       "      <td>2</td>\n",
       "      <td>1</td>\n",
       "      <td>1</td>\n",
       "      <td>Cumings, Mrs. John Bradley (Florence Briggs Th...</td>\n",
       "      <td>female</td>\n",
       "      <td>38.0</td>\n",
       "      <td>1</td>\n",
       "      <td>0</td>\n",
       "      <td>PC 17599</td>\n",
       "      <td>71.2833</td>\n",
       "      <td>C85</td>\n",
       "      <td>C</td>\n",
       "    </tr>\n",
       "    <tr>\n",
       "      <th>2</th>\n",
       "      <td>3</td>\n",
       "      <td>1</td>\n",
       "      <td>3</td>\n",
       "      <td>Heikkinen, Miss. Laina</td>\n",
       "      <td>female</td>\n",
       "      <td>26.0</td>\n",
       "      <td>0</td>\n",
       "      <td>0</td>\n",
       "      <td>STON/O2. 3101282</td>\n",
       "      <td>7.9250</td>\n",
       "      <td>NaN</td>\n",
       "      <td>S</td>\n",
       "    </tr>\n",
       "    <tr>\n",
       "      <th>3</th>\n",
       "      <td>4</td>\n",
       "      <td>1</td>\n",
       "      <td>1</td>\n",
       "      <td>Futrelle, Mrs. Jacques Heath (Lily May Peel)</td>\n",
       "      <td>female</td>\n",
       "      <td>35.0</td>\n",
       "      <td>1</td>\n",
       "      <td>0</td>\n",
       "      <td>113803</td>\n",
       "      <td>53.1000</td>\n",
       "      <td>C123</td>\n",
       "      <td>S</td>\n",
       "    </tr>\n",
       "    <tr>\n",
       "      <th>4</th>\n",
       "      <td>5</td>\n",
       "      <td>0</td>\n",
       "      <td>3</td>\n",
       "      <td>Allen, Mr. William Henry</td>\n",
       "      <td>male</td>\n",
       "      <td>35.0</td>\n",
       "      <td>0</td>\n",
       "      <td>0</td>\n",
       "      <td>373450</td>\n",
       "      <td>8.0500</td>\n",
       "      <td>NaN</td>\n",
       "      <td>S</td>\n",
       "    </tr>\n",
       "  </tbody>\n",
       "</table>\n",
       "</div>"
      ],
      "text/plain": [
       "   PassengerId  Survived  Pclass  \\\n",
       "0            1         0       3   \n",
       "1            2         1       1   \n",
       "2            3         1       3   \n",
       "3            4         1       1   \n",
       "4            5         0       3   \n",
       "\n",
       "                                                Name     Sex   Age  SibSp  \\\n",
       "0                            Braund, Mr. Owen Harris    male  22.0      1   \n",
       "1  Cumings, Mrs. John Bradley (Florence Briggs Th...  female  38.0      1   \n",
       "2                             Heikkinen, Miss. Laina  female  26.0      0   \n",
       "3       Futrelle, Mrs. Jacques Heath (Lily May Peel)  female  35.0      1   \n",
       "4                           Allen, Mr. William Henry    male  35.0      0   \n",
       "\n",
       "   Parch            Ticket     Fare Cabin Embarked  \n",
       "0      0         A/5 21171   7.2500   NaN        S  \n",
       "1      0          PC 17599  71.2833   C85        C  \n",
       "2      0  STON/O2. 3101282   7.9250   NaN        S  \n",
       "3      0            113803  53.1000  C123        S  \n",
       "4      0            373450   8.0500   NaN        S  "
      ]
     },
     "execution_count": 8,
     "metadata": {},
     "output_type": "execute_result"
    }
   ],
   "source": [
    "train_df.head()"
   ]
  },
  {
   "cell_type": "code",
   "execution_count": null,
   "id": "3f842786",
   "metadata": {},
   "outputs": [],
   "source": [
    "train_df.info()"
   ]
  },
  {
   "cell_type": "code",
   "execution_count": null,
   "id": "156de20c",
   "metadata": {},
   "outputs": [],
   "source": [
    "train_df.describe()"
   ]
  },
  {
   "cell_type": "code",
   "execution_count": null,
   "id": "aae7bfcf",
   "metadata": {},
   "outputs": [],
   "source": [
    "train_df.describe(include=['O'])"
   ]
  },
  {
   "cell_type": "code",
   "execution_count": null,
   "id": "b57189b2",
   "metadata": {},
   "outputs": [],
   "source": [
    "train_df.groupby(['Pclass'], as_index=False)['Survived'].mean()"
   ]
  },
  {
   "cell_type": "code",
   "execution_count": null,
   "id": "a1e45297",
   "metadata": {},
   "outputs": [],
   "source": [
    "train_df.groupby(['Sex'], as_index=False)['Survived'].mean()"
   ]
  },
  {
   "cell_type": "code",
   "execution_count": null,
   "id": "2ce684c8",
   "metadata": {},
   "outputs": [],
   "source": [
    "train_df.groupby(['SibSp'], as_index=False)['Survived'].mean()"
   ]
  },
  {
   "cell_type": "code",
   "execution_count": null,
   "id": "b20cede5",
   "metadata": {},
   "outputs": [],
   "source": [
    "train_df.groupby(['Parch'], as_index=False)['Survived'].mean()"
   ]
  },
  {
   "cell_type": "code",
   "execution_count": null,
   "id": "9ff8720a",
   "metadata": {},
   "outputs": [],
   "source": [
    "train_df['Family_Size'] = train_df['SibSp'] + train_df['Parch'] + 1\n",
    "test_df['Family_Size'] = test_df['SibSp'] + test_df['Parch'] + 1"
   ]
  },
  {
   "cell_type": "code",
   "execution_count": null,
   "id": "ab05fcd3",
   "metadata": {},
   "outputs": [],
   "source": [
    "train_df.groupby(['Family_Size'], as_index=False)['Survived'].mean()"
   ]
  },
  {
   "cell_type": "code",
   "execution_count": null,
   "id": "d7f1ddac",
   "metadata": {},
   "outputs": [],
   "source": [
    "family_map = {1: 'Alone', 2: 'Small', 3: 'Small', 4: 'Small', 5: 'Medium', 6: 'Medium', 7: 'Large', 8: 'Large', 11: 'Large'}\n",
    "train_df['Family_Size_Grouped'] = train_df['Family_Size'].map(family_map)\n",
    "test_df['Family_Size_Grouped'] = train_df['Family_Size'].map(family_map)"
   ]
  },
  {
   "cell_type": "code",
   "execution_count": null,
   "id": "322a0efa",
   "metadata": {},
   "outputs": [],
   "source": [
    "train_df.groupby(['Family_Size_Grouped'], as_index=False)['Survived'].mean()"
   ]
  },
  {
   "cell_type": "code",
   "execution_count": null,
   "id": "046012a7",
   "metadata": {},
   "outputs": [],
   "source": [
    "train_df.groupby(['Embarked'], as_index=False)['Survived'].mean()"
   ]
  },
  {
   "cell_type": "markdown",
   "id": "131f984d",
   "metadata": {},
   "source": [
    "### Age Cut"
   ]
  },
  {
   "cell_type": "code",
   "execution_count": null,
   "id": "02cf2fde",
   "metadata": {},
   "outputs": [],
   "source": [
    "sns.displot(train_df, x='Age', col='Survived', binwidth=10, height=5)"
   ]
  },
  {
   "cell_type": "code",
   "execution_count": null,
   "id": "013fb04e",
   "metadata": {},
   "outputs": [],
   "source": [
    "train_df['Age_Cut'] = pd.qcut(train_df['Age'], 5)\n",
    "test_df['Age_Cut'] = pd.qcut(test_df['Age'], 5)"
   ]
  },
  {
   "cell_type": "code",
   "execution_count": null,
   "id": "6def366d",
   "metadata": {},
   "outputs": [],
   "source": [
    "train_df.groupby(['Age_Cut'], as_index=False)['Survived'].mean()"
   ]
  },
  {
   "cell_type": "code",
   "execution_count": null,
   "id": "652d65ab",
   "metadata": {},
   "outputs": [],
   "source": [
    "train_df.loc[train_df['Age'] <= 19, 'Age'] = 0\n",
    "train_df.loc[(train_df['Age'] > 19) & (train_df['Age'] <= 25), 'Age'] = 1\n",
    "train_df.loc[(train_df['Age'] > 25) & (train_df['Age'] <= 31.8), 'Age'] = 2\n",
    "train_df.loc[(train_df['Age'] > 31.8) & (train_df['Age'] <= 41), 'Age'] = 3\n",
    "train_df.loc[(train_df['Age'] > 41) & (train_df['Age'] <= 80), 'Age'] = 4\n",
    "train_df.loc[train_df['Age'] > 80, 'Age'] \n",
    "\n",
    "test_df.loc[test_df['Age'] <= 19, 'Age'] = 0\n",
    "test_df.loc[(test_df['Age'] > 19) & (test_df['Age'] <= 25), 'Age'] = 1\n",
    "test_df.loc[(test_df['Age'] > 25) & (test_df['Age'] <= 31.8), 'Age'] = 2\n",
    "test_df.loc[(test_df['Age'] > 31.8) & (test_df['Age'] <= 41), 'Age'] = 3\n",
    "test_df.loc[(test_df['Age'] > 41) & (test_df['Age'] <= 80), 'Age'] = 4\n",
    "test_df.loc[test_df['Age'] > 80, 'Age']"
   ]
  },
  {
   "cell_type": "code",
   "execution_count": null,
   "id": "7b325856",
   "metadata": {},
   "outputs": [],
   "source": [
    "train_df.head()"
   ]
  },
  {
   "cell_type": "markdown",
   "id": "232be9d8",
   "metadata": {},
   "source": [
    "### Fare Cut"
   ]
  },
  {
   "cell_type": "code",
   "execution_count": null,
   "id": "be380d3b",
   "metadata": {},
   "outputs": [],
   "source": [
    "sns.displot(train_df, x='Fare', col='Survived', binwidth=80, height=5)"
   ]
  },
  {
   "cell_type": "code",
   "execution_count": null,
   "id": "07173b3c",
   "metadata": {},
   "outputs": [],
   "source": [
    "train_df['Fare_Cut'] = pd.qcut(train_df['Fare'], 5)\n",
    "test_df['Fare_Cut'] = pd.qcut(test_df['Fare'], 5)"
   ]
  },
  {
   "cell_type": "code",
   "execution_count": null,
   "id": "17aad8c2",
   "metadata": {},
   "outputs": [],
   "source": [
    "train_df.groupby(['Fare_Cut'], as_index=False)['Survived'].mean()"
   ]
  },
  {
   "cell_type": "code",
   "execution_count": null,
   "id": "f7c2573d",
   "metadata": {},
   "outputs": [],
   "source": [
    "train_df.loc[train_df['Fare'] <= 7.854, 'Fare'] = 0\n",
    "train_df.loc[(train_df['Fare'] > 7.854) & (train_df['Fare'] <= 10.5), 'Fare'] = 1\n",
    "train_df.loc[(train_df['Fare'] > 10.5) & (train_df['Fare'] <= 21.679), 'Fare'] = 2\n",
    "train_df.loc[(train_df['Fare'] > 21.679) & (train_df['Fare'] <= 39.688), 'Fare'] = 3\n",
    "train_df.loc[(train_df['Fare'] > 39.688) & (train_df['Fare'] <= 512.329), 'Fare'] = 4\n",
    "train_df.loc[train_df['Fare'] > 512.329, 'Fare'] \n",
    "\n",
    "test_df.loc[test_df['Fare'] <= 7.854, 'Fare'] = 0\n",
    "test_df.loc[(test_df['Fare'] > 7.854) & (test_df['Fare'] <= 10.5), 'Fare'] = 1\n",
    "test_df.loc[(test_df['Fare'] > 10.5) & (test_df['Fare'] <= 21.679), 'Fare'] = 2\n",
    "test_df.loc[(test_df['Fare'] > 21.679) & (test_df['Fare'] <= 39.688), 'Fare'] = 3\n",
    "test_df.loc[(test_df['Fare'] > 39.688) & (test_df['Fare'] <= 512.329), 'Fare'] = 4\n",
    "test_df.loc[test_df['Fare'] > 512.329, 'Fare']"
   ]
  },
  {
   "cell_type": "markdown",
   "id": "17e1c89a",
   "metadata": {},
   "source": [
    "### Title and Name Lenght"
   ]
  },
  {
   "cell_type": "code",
   "execution_count": null,
   "id": "a7d32200",
   "metadata": {},
   "outputs": [],
   "source": [
    "train_df['Name']"
   ]
  },
  {
   "cell_type": "code",
   "execution_count": null,
   "id": "04208e1f",
   "metadata": {},
   "outputs": [],
   "source": [
    "train_df['Title'] = train_df['Name'].str.split(pat= \",\", expand=True)[1].str.split(pat= \".\", expand=True)[0].apply(lambda x: x.strip())\n",
    "test_df['Title'] = test_df['Name'].str.split(pat= \",\", expand=True)[1].str.split(pat= \".\", expand=True)[0].apply(lambda x: x.strip())"
   ]
  },
  {
   "cell_type": "code",
   "execution_count": null,
   "id": "d918fe05",
   "metadata": {},
   "outputs": [],
   "source": [
    "train_df.groupby(['Title'], as_index=False)['Survived'].mean()"
   ]
  },
  {
   "cell_type": "code",
   "execution_count": null,
   "id": "0a704ea7",
   "metadata": {},
   "outputs": [],
   "source": [
    "#military - Capt, Col, Major\n",
    "#noble - Jonkheer, the Countess, Don, Lady, Sir\n",
    "#unmarried Female - Mlle, Ms, Mme"
   ]
  },
  {
   "cell_type": "code",
   "execution_count": null,
   "id": "907e42e8",
   "metadata": {},
   "outputs": [],
   "source": [
    "train_df['Title'] = train_df['Title'].replace({\n",
    "    'Capt': 'Military',\n",
    "    'Col': 'Military',\n",
    "    'Major': 'Military',\n",
    "    'Jonkheer': 'Noble',\n",
    "    'the Countess': 'Noble',\n",
    "    'Don': 'Noble',\n",
    "    'Lady': 'Noble',\n",
    "    'Sir': 'Noble',\n",
    "    'Mlle': 'Noble',\n",
    "    'Ms': 'Noble',\n",
    "    'Mme': 'Noble'    \n",
    "})\n",
    "\n",
    "test_df['Title'] = test_df['Title'].replace({\n",
    "    'Capt': 'Military',\n",
    "    'Col': 'Military',\n",
    "    'Major': 'Military',\n",
    "    'Jonkheer': 'Noble',\n",
    "    'the Countess': 'Noble',\n",
    "    'Don': 'Noble',\n",
    "    'Lady': 'Noble',\n",
    "    'Sir': 'Noble',\n",
    "    'Mlle': 'Noble',\n",
    "    'Ms': 'Noble',\n",
    "    'Mme': 'Noble'    \n",
    "})"
   ]
  },
  {
   "cell_type": "code",
   "execution_count": null,
   "id": "d967ba4c",
   "metadata": {},
   "outputs": [],
   "source": [
    "train_df.groupby(['Title'], as_index=False)['Survived'].agg(['count', 'mean'])"
   ]
  },
  {
   "cell_type": "code",
   "execution_count": null,
   "id": "5c677f4b",
   "metadata": {},
   "outputs": [],
   "source": [
    "train_df['Name_Length'] = train_df['Name'].apply(lambda x: len(x))\n",
    "test_df['Name_Length'] = test_df['Name'].apply(lambda x: len(x))"
   ]
  },
  {
   "cell_type": "code",
   "execution_count": null,
   "id": "0996f454",
   "metadata": {},
   "outputs": [],
   "source": [
    "g = sns.kdeplot(train_df['Name_Length'][(train_df['Survived']==0) & (train_df['Name_Length'].notnull())], color='Red', fill=True)\n",
    "g = sns.kdeplot(train_df['Name_Length'][(train_df['Survived']==1) & (train_df['Name_Length'].notnull())], ax=g, color='Blue', fill=True)\n",
    "g.set_xlabel('Name_Length')\n",
    "g.set_ylabel('Frequency')\n",
    "g = g.legend(['Not Survived', 'Survived'])"
   ]
  },
  {
   "cell_type": "code",
   "execution_count": null,
   "id": "ec40c92c",
   "metadata": {},
   "outputs": [],
   "source": [
    "train_df['Name_LengthGB'] = pd.qcut(train_df['Name_Length'], 3)\n",
    "test_df['Name_LengthGB'] = pd.qcut(test_df['Name_Length'], 3)"
   ]
  },
  {
   "cell_type": "code",
   "execution_count": null,
   "id": "66c6d107",
   "metadata": {},
   "outputs": [],
   "source": [
    "train_df.groupby(['Name_LengthGB'], as_index=False)['Survived'].mean()"
   ]
  },
  {
   "cell_type": "code",
   "execution_count": null,
   "id": "2317599b",
   "metadata": {},
   "outputs": [],
   "source": [
    "train_df.loc[train_df['Name_Length'] <= 22, 'Name_Size'] = 0\n",
    "train_df.loc[(train_df['Name_Length'] > 22) & (train_df['Name_Length'] <= 28), 'Name_Size'] = 1\n",
    "train_df.loc[(train_df['Name_Length'] > 28) & (train_df['Name_Length'] <= 82), 'Name_Size'] = 2\n",
    "train_df.loc[train_df['Name_Length'] > 82, 'Name_Size'] \n",
    "\n",
    "test_df.loc[test_df['Name_Length'] <= 22, 'Name_Size'] = 0\n",
    "test_df.loc[(test_df['Name_Length'] > 22) & (test_df['Name_Length'] <= 28), 'Name_Size'] = 1\n",
    "test_df.loc[(test_df['Name_Length'] > 28) & (test_df['Name_Length'] <= 82), 'Name_Size'] = 2\n",
    "test_df.loc[test_df['Name_Length'] > 82, 'Name_Size'] "
   ]
  },
  {
   "cell_type": "code",
   "execution_count": null,
   "id": "01221ef1",
   "metadata": {},
   "outputs": [],
   "source": [
    "train_df.head()"
   ]
  },
  {
   "cell_type": "markdown",
   "id": "67f12be4",
   "metadata": {},
   "source": [
    "### Ticket Number and Location"
   ]
  },
  {
   "cell_type": "code",
   "execution_count": null,
   "id": "2d4a32c1",
   "metadata": {},
   "outputs": [],
   "source": [
    "train_df['Ticket']"
   ]
  },
  {
   "cell_type": "code",
   "execution_count": null,
   "id": "36caf871",
   "metadata": {},
   "outputs": [],
   "source": [
    "train_df['TicketNumber'] = train_df['Ticket'].apply(lambda x: pd.Series({'Ticket': x.split()[-1]}))\n",
    "test_df['TicketNumber'] = test_df['Ticket'].apply(lambda x: pd.Series({'Ticket': x.split()[-1]}))"
   ]
  },
  {
   "cell_type": "code",
   "execution_count": null,
   "id": "bbe6bc00",
   "metadata": {},
   "outputs": [],
   "source": [
    "train_df.groupby(['TicketNumber'], as_index=False)['Survived'].agg(['count', 'mean']).sort_values('count', ascending=False)"
   ]
  },
  {
   "cell_type": "code",
   "execution_count": null,
   "id": "2c54e9dc",
   "metadata": {},
   "outputs": [],
   "source": [
    "train_df.groupby('TicketNumber')['TicketNumber'].transform('count')"
   ]
  },
  {
   "cell_type": "code",
   "execution_count": null,
   "id": "41a091c0",
   "metadata": {},
   "outputs": [],
   "source": [
    "train_df['TicketNumberCounts'] = train_df.groupby('TicketNumber')['TicketNumber'].transform('count')\n",
    "test_df['TicketNumberCounts'] = test_df.groupby('TicketNumber')['TicketNumber'].transform('count')"
   ]
  },
  {
   "cell_type": "code",
   "execution_count": null,
   "id": "678f67ff",
   "metadata": {},
   "outputs": [],
   "source": [
    "train_df.groupby(['TicketNumberCounts'], as_index=False)['Survived'].agg(['count', 'mean']).sort_values('count', ascending=False)"
   ]
  },
  {
   "cell_type": "code",
   "execution_count": null,
   "id": "97f49650",
   "metadata": {},
   "outputs": [],
   "source": [
    "train_df['Ticket']"
   ]
  },
  {
   "cell_type": "code",
   "execution_count": null,
   "id": "03b104b9",
   "metadata": {},
   "outputs": [],
   "source": [
    "train_df['Ticket'].str.split(pat=\" \", expand=True)"
   ]
  },
  {
   "cell_type": "code",
   "execution_count": null,
   "id": "351f95b6",
   "metadata": {},
   "outputs": [],
   "source": [
    "train_df['TicketLocation'] = np.where(train_df['Ticket'].str.split(pat=\" \", expand=True)[1].notna(), train_df['Ticket'].str.split(pat=\" \", expand=True)[0].apply(lambda x: x.strip()), 'Blank')\n",
    "test_df['TicketLocation'] = np.where(test_df['Ticket'].str.split(pat=\" \", expand=True)[1].notna(), test_df['Ticket'].str.split(pat=\" \", expand=True)[0].apply(lambda x: x.strip()), 'Blank')"
   ]
  },
  {
   "cell_type": "code",
   "execution_count": null,
   "id": "841c2a54",
   "metadata": {},
   "outputs": [],
   "source": [
    "train_df['TicketLocation'].value_counts()"
   ]
  },
  {
   "cell_type": "code",
   "execution_count": null,
   "id": "34994b45",
   "metadata": {},
   "outputs": [],
   "source": [
    "train_df['TicketLocation'] = train_df['TicketLocation'].replace({\n",
    "    'SOTON/O.Q.':'SOTON/OQ',\n",
    "    'C.A.':'CA',\n",
    "    'CA.':'CA',\n",
    "    'SC/PARIS':'SC/Paris',\n",
    "    'S.C./PARIS':'SC/Paris',\n",
    "    'A/4.':'A/4',\n",
    "    'A/5.':'A/5',\n",
    "    'A.5.':'A/5',\n",
    "    'A./5.':'A/5',\n",
    "    'W./C.':'W/C',    \n",
    "})\n",
    "\n",
    "test_df['TicketLocation'] = test_df['TicketLocation'].replace({\n",
    "    'SOTON/O.Q.':'SOTON/OQ',\n",
    "    'C.A.':'CA',\n",
    "    'CA.':'CA',\n",
    "    'SC/PARIS':'SC/Paris',\n",
    "    'S.C./PARIS':'SC/Paris',\n",
    "    'A/4.':'A/4',\n",
    "    'A/5.':'A/5',\n",
    "    'A.5.':'A/5',\n",
    "    'A./5.':'A/5',\n",
    "    'W./C.':'W/C',    \n",
    "})"
   ]
  },
  {
   "cell_type": "code",
   "execution_count": null,
   "id": "fc349052",
   "metadata": {},
   "outputs": [],
   "source": [
    "train_df.groupby(['TicketLocation'], as_index=False)['Survived'].agg(['count', 'mean'])"
   ]
  },
  {
   "cell_type": "markdown",
   "id": "9b87e479",
   "metadata": {},
   "source": [
    "### Cabin Assigned"
   ]
  },
  {
   "cell_type": "code",
   "execution_count": null,
   "id": "6eae1c5f",
   "metadata": {},
   "outputs": [],
   "source": [
    "train_df['Cabin'] = train_df['Cabin'].fillna('U')\n",
    "train_df['Cabin'] = pd.Series([i[0] if not pd.isnull(i) else 'x' for i in train_df['Cabin']])\n",
    "\n",
    "test_df['Cabin'] = test_df['Cabin'].fillna('U')\n",
    "test_df['Cabin'] = pd.Series([i[0] if not pd.isnull(i) else 'x' for i in test_df['Cabin']])"
   ]
  },
  {
   "cell_type": "code",
   "execution_count": null,
   "id": "a2943d3d",
   "metadata": {},
   "outputs": [],
   "source": [
    "train_df.groupby(['Cabin'], as_index=False)['Survived'].agg(['count', 'mean'])"
   ]
  },
  {
   "cell_type": "code",
   "execution_count": null,
   "id": "69758a47",
   "metadata": {},
   "outputs": [],
   "source": [
    "train_df['Cabin_Assigned'] = train_df['Cabin'].apply(lambda x: 0 if x in ['U'] else 1)\n",
    "test_df['Cabin_Assigned'] = test_df['Cabin'].apply(lambda x: 0 if x in ['U'] else 1)"
   ]
  },
  {
   "cell_type": "code",
   "execution_count": null,
   "id": "82fc3ba2",
   "metadata": {},
   "outputs": [],
   "source": [
    "train_df.groupby(['Cabin_Assigned'], as_index=False)['Survived'].agg(['count', 'mean'])"
   ]
  },
  {
   "cell_type": "code",
   "execution_count": null,
   "id": "918eb1a2",
   "metadata": {},
   "outputs": [],
   "source": [
    "train_df.head()"
   ]
  },
  {
   "cell_type": "markdown",
   "id": "e85df270",
   "metadata": {},
   "source": [
    "### Data Preparation"
   ]
  },
  {
   "cell_type": "code",
   "execution_count": null,
   "id": "637e9f45",
   "metadata": {},
   "outputs": [],
   "source": [
    "train_df.shape"
   ]
  },
  {
   "cell_type": "code",
   "execution_count": null,
   "id": "fcf6ac5b",
   "metadata": {},
   "outputs": [],
   "source": [
    "test_df.shape"
   ]
  },
  {
   "cell_type": "code",
   "execution_count": null,
   "id": "767952ee",
   "metadata": {},
   "outputs": [],
   "source": [
    "train_df.info()"
   ]
  },
  {
   "cell_type": "code",
   "execution_count": null,
   "id": "223817b8",
   "metadata": {},
   "outputs": [],
   "source": [
    "train_df.columns"
   ]
  },
  {
   "cell_type": "code",
   "execution_count": null,
   "id": "7b33ee08",
   "metadata": {},
   "outputs": [],
   "source": [
    "test_df.info()"
   ]
  },
  {
   "cell_type": "code",
   "execution_count": null,
   "id": "8e15b0f4",
   "metadata": {},
   "outputs": [],
   "source": [
    "train_df['Age'].fillna(train_df['Age'].mean(), inplace=True)\n",
    "test_df['Age'].fillna(test_df['Age'].mean(), inplace=True)\n",
    "test_df['Fare'].fillna(test_df['Fare'].mean(), inplace=True)"
   ]
  },
  {
   "cell_type": "code",
   "execution_count": null,
   "id": "4af2b82c",
   "metadata": {},
   "outputs": [],
   "source": [
    "ohe = OneHotEncoder(sparse_output=False)\n",
    "ode = OrdinalEncoder\n",
    "SI = SimpleImputer(strategy='most_frequent')"
   ]
  },
  {
   "cell_type": "code",
   "execution_count": null,
   "id": "cf381ca1",
   "metadata": {},
   "outputs": [],
   "source": [
    "ode_cols = ['Family_Size_Grouped']\n",
    "ohe_cols = ['Sex', 'Embarked']"
   ]
  },
  {
   "cell_type": "code",
   "execution_count": null,
   "id": "93739511",
   "metadata": {},
   "outputs": [],
   "source": [
    "correlation_matrix = train_df.corr(numeric_only=True)\n",
    "\n",
    "# Create a heatmap using Seaborn\n",
    "plt.figure(figsize=(8, 6))  # Adjust the figure size as needed\n",
    "sns.heatmap(correlation_matrix, annot=True, cmap='coolwarm', fmt=\".2f\")"
   ]
  },
  {
   "cell_type": "code",
   "execution_count": null,
   "id": "9cc6478f",
   "metadata": {},
   "outputs": [],
   "source": [
    "X = train_df.drop(['Survived', 'SibSp', 'Parch'], axis=1)\n",
    "y = train_df['Survived']\n",
    "X_test = test_df.drop(['Age_Cut', 'Fare_Cut', 'SibSp', 'Parch'], axis=1)"
   ]
  },
  {
   "cell_type": "code",
   "execution_count": null,
   "id": "37c5f81f",
   "metadata": {},
   "outputs": [],
   "source": [
    "X_train, X_valid, y_train, y_valid = train_test_split(X, y, test_size=0.2, stratify = y, random_state=21)"
   ]
  },
  {
   "cell_type": "code",
   "execution_count": null,
   "id": "6b0a3bb7",
   "metadata": {},
   "outputs": [],
   "source": [
    "ordinal_pipeline = Pipeline(steps=[\n",
    "    ('impute', SimpleImputer(strategy='most_frequent')),\n",
    "    ('ord', OrdinalEncoder(handle_unknown='use_encoded_value', unknown_value=-1))\n",
    "])"
   ]
  },
  {
   "cell_type": "code",
   "execution_count": null,
   "id": "cac5889a",
   "metadata": {},
   "outputs": [],
   "source": [
    "ohe_pipeline = Pipeline(steps=[\n",
    "    ('impute', SimpleImputer(strategy='most_frequent')),\n",
    "    ('one-hot', OneHotEncoder(handle_unknown = 'ignore', sparse_output=False))\n",
    "])"
   ]
  },
  {
   "cell_type": "code",
   "execution_count": null,
   "id": "307afc6a",
   "metadata": {},
   "outputs": [],
   "source": [
    "col_trans = ColumnTransformer(transformers=[\n",
    "    ('impute', SI, ['Age']),\n",
    "    ('ord_pipeline', ordinal_pipeline, ode_cols),\n",
    "    ('ohe_pipeline', ohe_pipeline, ohe_cols),\n",
    "   # ('passthrough', 'passthrough', ['Pclass', 'TicketNumberCounts', 'Cabin_Assigned', 'Name_Size', 'Age', 'Fare'])\n",
    "     ('passthrough', 'passthrough', ['Pclass', 'Cabin_Assigned', 'Name_Size', 'Age', 'Fare', 'TicketNumberCounts'])\n",
    "    ],\n",
    "    remainder='drop',\n",
    "    n_jobs=-1)"
   ]
  },
  {
   "cell_type": "markdown",
   "id": "ce7d7b26",
   "metadata": {},
   "source": [
    "### Random Forest Classifier"
   ]
  },
  {
   "cell_type": "code",
   "execution_count": null,
   "id": "8524522f",
   "metadata": {},
   "outputs": [],
   "source": [
    "rfc = RandomForestClassifier()"
   ]
  },
  {
   "cell_type": "code",
   "execution_count": null,
   "id": "519a1d0c",
   "metadata": {},
   "outputs": [],
   "source": [
    "param_grid = {\n",
    "    'n_estimators': [150, 200, 300, 500],\n",
    "    'min_samples_split': [5, 10, 15],\n",
    "    'max_depth': [10, 13, 15, 17, 20],\n",
    "    'min_samples_leaf': [2, 4, 5, 6],\n",
    "    'criterion': ['gini', 'entropy'],\n",
    "}"
   ]
  },
  {
   "cell_type": "code",
   "execution_count": null,
   "id": "653503e8",
   "metadata": {},
   "outputs": [],
   "source": [
    "CV_rfc = GridSearchCV(estimator=rfc, param_grid=param_grid, cv=StratifiedKFold(n_splits=5))"
   ]
  },
  {
   "cell_type": "code",
   "execution_count": null,
   "id": "0a48a1a2",
   "metadata": {},
   "outputs": [],
   "source": [
    "pipefinalrfc = make_pipeline(col_trans, CV_rfc)\n",
    "pipefinalrfc.fit(X_train, y_train)"
   ]
  },
  {
   "cell_type": "code",
   "execution_count": null,
   "id": "3f8133a9",
   "metadata": {},
   "outputs": [],
   "source": [
    "print(CV_rfc.best_params_)\n",
    "print(CV_rfc.best_score_)"
   ]
  },
  {
   "cell_type": "markdown",
   "id": "a5ae8855",
   "metadata": {},
   "source": [
    "### Decision Tree Classifier"
   ]
  },
  {
   "cell_type": "code",
   "execution_count": null,
   "id": "c1432290",
   "metadata": {},
   "outputs": [],
   "source": [
    "dtc = DecisionTreeClassifier()"
   ]
  },
  {
   "cell_type": "code",
   "execution_count": null,
   "id": "919aca4d",
   "metadata": {},
   "outputs": [],
   "source": [
    "param_grid = {\n",
    "    'min_samples_split': [5, 10, 15],\n",
    "    'max_depth': [10, 20, 30],\n",
    "    'min_samples_leaf': [1, 2, 4],\n",
    "    'criterion': ['gini', 'entropy'],\n",
    "}"
   ]
  },
  {
   "cell_type": "code",
   "execution_count": null,
   "id": "e1107015",
   "metadata": {},
   "outputs": [],
   "source": [
    "CV_dtc = GridSearchCV(estimator=dtc, param_grid=param_grid, cv=StratifiedKFold(n_splits=5))"
   ]
  },
  {
   "cell_type": "code",
   "execution_count": null,
   "id": "9d27cd8f",
   "metadata": {},
   "outputs": [],
   "source": [
    "pipefinaldtc = make_pipeline(col_trans, CV_dtc)\n",
    "pipefinaldtc.fit(X_train, y_train)"
   ]
  },
  {
   "cell_type": "code",
   "execution_count": null,
   "id": "2c331453",
   "metadata": {},
   "outputs": [],
   "source": [
    "print(CV_dtc.best_params_)\n",
    "print(CV_dtc.best_score_)"
   ]
  },
  {
   "cell_type": "markdown",
   "id": "0dd6d636",
   "metadata": {},
   "source": [
    "### Closest K Neighbor Classifier"
   ]
  },
  {
   "cell_type": "code",
   "execution_count": null,
   "id": "a8cfd166",
   "metadata": {},
   "outputs": [],
   "source": [
    "knn = KNeighborsClassifier()"
   ]
  },
  {
   "cell_type": "code",
   "execution_count": null,
   "id": "49ef5626",
   "metadata": {},
   "outputs": [],
   "source": [
    "param_grid = {\n",
    "    'n_neighbors': [3, 5, 7, 9, 11],\n",
    "    'weights': ['uniform', 'distance'],\n",
    "    'algorithm': ['auto', 'ball_tree', 'kd_tree', 'brute'],\n",
    "    'p': [1,2],\n",
    "}"
   ]
  },
  {
   "cell_type": "code",
   "execution_count": null,
   "id": "20d6061b",
   "metadata": {},
   "outputs": [],
   "source": [
    "CV_knn = GridSearchCV(estimator=knn, param_grid=param_grid, cv=StratifiedKFold(n_splits=5))"
   ]
  },
  {
   "cell_type": "code",
   "execution_count": null,
   "id": "684dcd57",
   "metadata": {},
   "outputs": [],
   "source": [
    "pipefinalknn = make_pipeline(col_trans, CV_knn)\n",
    "pipefinalknn.fit(X_train, y_train)"
   ]
  },
  {
   "cell_type": "code",
   "execution_count": null,
   "id": "8d59fac5",
   "metadata": {},
   "outputs": [],
   "source": [
    "print(CV_knn.best_params_)\n",
    "print(CV_knn.best_score_)"
   ]
  },
  {
   "cell_type": "markdown",
   "id": "56eab209",
   "metadata": {},
   "source": [
    "### Support Vector Classifier"
   ]
  },
  {
   "cell_type": "code",
   "execution_count": null,
   "id": "126f8389",
   "metadata": {},
   "outputs": [],
   "source": [
    "svc = SVC(probability=True)"
   ]
  },
  {
   "cell_type": "code",
   "execution_count": null,
   "id": "bba03020",
   "metadata": {},
   "outputs": [],
   "source": [
    "param_grid = {\n",
    "    'C': [100,10, 1.0, 0.1, 0.001, 0.001],\n",
    "    'kernel':['linear', 'poly', 'rbf', 'sigmoid'],\n",
    "}"
   ]
  },
  {
   "cell_type": "code",
   "execution_count": null,
   "id": "eb3df9fe",
   "metadata": {},
   "outputs": [],
   "source": [
    "CV_svc = GridSearchCV(estimator=svc, param_grid=param_grid, cv=StratifiedKFold(n_splits=5))"
   ]
  },
  {
   "cell_type": "code",
   "execution_count": null,
   "id": "099a8ac5",
   "metadata": {},
   "outputs": [],
   "source": [
    "pipefinalsvc = make_pipeline(col_trans, CV_svc)\n",
    "pipefinalsvc.fit(X_train, y_train)"
   ]
  },
  {
   "cell_type": "code",
   "execution_count": null,
   "id": "bdb34322",
   "metadata": {},
   "outputs": [],
   "source": [
    "print(CV_svc.best_params_)\n",
    "print(CV_svc.best_score_)"
   ]
  },
  {
   "cell_type": "markdown",
   "id": "047240ec",
   "metadata": {},
   "source": [
    "### Logistic Regression Classifier"
   ]
  },
  {
   "cell_type": "code",
   "execution_count": null,
   "id": "081b6272",
   "metadata": {},
   "outputs": [],
   "source": [
    "lr = LogisticRegression()"
   ]
  },
  {
   "cell_type": "code",
   "execution_count": null,
   "id": "8342bb70",
   "metadata": {},
   "outputs": [],
   "source": [
    "param_grid = {\n",
    "    'C': [100,10, 1.0, 0.1, 0.001, 0.001],\n",
    "}"
   ]
  },
  {
   "cell_type": "code",
   "execution_count": null,
   "id": "b9473123",
   "metadata": {},
   "outputs": [],
   "source": [
    "CV_lr = GridSearchCV(estimator=lr, param_grid=param_grid, cv=StratifiedKFold(n_splits=5))"
   ]
  },
  {
   "cell_type": "code",
   "execution_count": null,
   "id": "92c8cb74",
   "metadata": {},
   "outputs": [],
   "source": [
    "pipefinallr= make_pipeline(col_trans, CV_lr)\n",
    "pipefinallr.fit(X_train, y_train)"
   ]
  },
  {
   "cell_type": "code",
   "execution_count": null,
   "id": "ca76eec8",
   "metadata": {},
   "outputs": [],
   "source": [
    "print(CV_lr.best_params_)\n",
    "print(CV_lr.best_score_)"
   ]
  },
  {
   "cell_type": "markdown",
   "id": "1eb75d0d",
   "metadata": {},
   "source": [
    "### Naive Bayes Classifier"
   ]
  },
  {
   "cell_type": "code",
   "execution_count": null,
   "id": "fd60aab3",
   "metadata": {},
   "outputs": [],
   "source": [
    "gnb = GaussianNB()"
   ]
  },
  {
   "cell_type": "code",
   "execution_count": null,
   "id": "ad7d9e19",
   "metadata": {},
   "outputs": [],
   "source": [
    "param_grid = {\n",
    "    'var_smoothing': [0.00000001, 0.000000001, 0.00000001],\n",
    "}"
   ]
  },
  {
   "cell_type": "code",
   "execution_count": null,
   "id": "83df5b85",
   "metadata": {},
   "outputs": [],
   "source": [
    "CV_gnb = GridSearchCV(estimator=gnb, param_grid=param_grid, cv=StratifiedKFold(n_splits=5))"
   ]
  },
  {
   "cell_type": "code",
   "execution_count": null,
   "id": "9f8b3e73",
   "metadata": {},
   "outputs": [],
   "source": [
    "pipefinalgnb= make_pipeline(col_trans, CV_gnb)\n",
    "pipefinalgnb.fit(X_train, y_train)"
   ]
  },
  {
   "cell_type": "code",
   "execution_count": null,
   "id": "0a2d5598",
   "metadata": {},
   "outputs": [],
   "source": [
    "print(CV_gnb.best_params_)\n",
    "print(CV_gnb.best_score_)"
   ]
  },
  {
   "cell_type": "markdown",
   "id": "4023280d",
   "metadata": {},
   "source": [
    "### XGBoost Classifier"
   ]
  },
  {
   "cell_type": "code",
   "execution_count": null,
   "id": "f960bd1c",
   "metadata": {},
   "outputs": [],
   "source": [
    "xg = XGBClassifier()"
   ]
  },
  {
   "cell_type": "code",
   "execution_count": null,
   "id": "dc0e5a26",
   "metadata": {},
   "outputs": [],
   "source": [
    "param_grid = {\n",
    "     'booster': ['gbtree', 'gblinear','dart'],\n",
    "}"
   ]
  },
  {
   "cell_type": "code",
   "execution_count": null,
   "id": "b7217fbc",
   "metadata": {},
   "outputs": [],
   "source": [
    "CV_xg = GridSearchCV(estimator=xg, param_grid=param_grid, cv=StratifiedKFold(n_splits=5))"
   ]
  },
  {
   "cell_type": "code",
   "execution_count": null,
   "id": "9fc3e2fa",
   "metadata": {},
   "outputs": [],
   "source": [
    "pipefinalxg= make_pipeline(col_trans, CV_xg)\n",
    "pipefinalxg.fit(X_train, y_train)"
   ]
  },
  {
   "cell_type": "code",
   "execution_count": null,
   "id": "7372be01",
   "metadata": {},
   "outputs": [],
   "source": [
    "print(CV_xg.best_params_)\n",
    "print(CV_xg.best_score_)"
   ]
  },
  {
   "cell_type": "markdown",
   "id": "562db206",
   "metadata": {},
   "source": [
    "### AdaBoost Classifier"
   ]
  },
  {
   "cell_type": "code",
   "execution_count": null,
   "id": "062df044",
   "metadata": {},
   "outputs": [],
   "source": [
    "abc = AdaBoostClassifier()"
   ]
  },
  {
   "cell_type": "code",
   "execution_count": null,
   "id": "0c71d2ba",
   "metadata": {},
   "outputs": [],
   "source": [
    "dtc_2 = DecisionTreeClassifier(criterion = 'entropy', max_depth=10,min_samples_leaf=4, min_samples_split=10)  \n",
    "svc_2 = SVC(probability=True, C=10, kernel='rbf') \n",
    "lr_2 = LogisticRegression(C=0.1) \n",
    "lr_3 = LogisticRegression(C=0.2) \n",
    "lr_4 = LogisticRegression(C=0.05) "
   ]
  },
  {
   "cell_type": "code",
   "execution_count": null,
   "id": "e918a8f0",
   "metadata": {},
   "outputs": [],
   "source": [
    "param_grid = {\n",
    "    'estimator': [dtc_2, svc_2, lr_2], \n",
    "    'n_estimators':  [5, 10, 25, 50, 100],\n",
    "    'algorithm': ['SAMME', 'SAMME.R'],\n",
    "    'learning_rate': [(0.97 + x / 100) for x in range(1, 7)]  \n",
    "}"
   ]
  },
  {
   "cell_type": "code",
   "execution_count": null,
   "id": "ef238cee",
   "metadata": {},
   "outputs": [],
   "source": [
    "CV_abc = GridSearchCV(estimator=abc, param_grid=param_grid, cv=StratifiedKFold(n_splits=5))"
   ]
  },
  {
   "cell_type": "code",
   "execution_count": null,
   "id": "e147c148",
   "metadata": {},
   "outputs": [],
   "source": [
    "pipefinalabc= make_pipeline(col_trans, CV_abc)\n",
    "pipefinalabc.fit(X_train, y_train)"
   ]
  },
  {
   "cell_type": "code",
   "execution_count": null,
   "id": "17630a79",
   "metadata": {},
   "outputs": [],
   "source": [
    "print(CV_abc.best_params_)\n",
    "print(CV_abc.best_score_)"
   ]
  },
  {
   "cell_type": "markdown",
   "id": "86f5639f",
   "metadata": {},
   "source": [
    "### Extra Tree Classifier"
   ]
  },
  {
   "cell_type": "code",
   "execution_count": null,
   "id": "f9577fd2",
   "metadata": {},
   "outputs": [],
   "source": [
    "etc = ExtraTreesClassifier()"
   ]
  },
  {
   "cell_type": "code",
   "execution_count": null,
   "id": "7b50d576",
   "metadata": {},
   "outputs": [],
   "source": [
    "param_grid = {\n",
    "              \"max_features\": [1, 3, 10],\n",
    "              \"min_samples_split\": [2, 3, 10],\n",
    "              \"min_samples_leaf\": [1, 3, 10],\n",
    "              \"n_estimators\" :[100,300],\n",
    "}"
   ]
  },
  {
   "cell_type": "code",
   "execution_count": null,
   "id": "e4cc26e7",
   "metadata": {},
   "outputs": [],
   "source": [
    "CV_etc = GridSearchCV(estimator=etc, param_grid=param_grid, cv=StratifiedKFold(n_splits=5))"
   ]
  },
  {
   "cell_type": "code",
   "execution_count": null,
   "id": "47f18b15",
   "metadata": {},
   "outputs": [],
   "source": [
    "pipefinaletc= make_pipeline(col_trans, CV_etc)\n",
    "pipefinaletc.fit(X_train, y_train)"
   ]
  },
  {
   "cell_type": "code",
   "execution_count": null,
   "id": "ce57a454",
   "metadata": {},
   "outputs": [],
   "source": [
    "print(CV_etc.best_params_)\n",
    "print(CV_etc.best_score_)"
   ]
  },
  {
   "cell_type": "markdown",
   "id": "1d40e24d",
   "metadata": {},
   "source": [
    "### Gradient Boosting Classifier"
   ]
  },
  {
   "cell_type": "code",
   "execution_count": null,
   "id": "c57c3371",
   "metadata": {},
   "outputs": [],
   "source": [
    "GBC = GradientBoostingClassifier()"
   ]
  },
  {
   "cell_type": "code",
   "execution_count": null,
   "id": "6de29655",
   "metadata": {},
   "outputs": [],
   "source": [
    "param_grid = {\n",
    "              'n_estimators' : [300, 400, 500],\n",
    "              'learning_rate': [ 0.1, 0.3, 0.6, 1.0],\n",
    "              'max_depth': [8, 10, 12],\n",
    "              'min_samples_leaf': [50, 100, 120, 150],\n",
    "              'max_features': [0.1, 0.3, 0.5] \n",
    "              }"
   ]
  },
  {
   "cell_type": "code",
   "execution_count": null,
   "id": "c35f5b08",
   "metadata": {},
   "outputs": [],
   "source": [
    "CV_gbc = GridSearchCV(estimator=GBC, param_grid=param_grid, cv=StratifiedKFold(n_splits=5))"
   ]
  },
  {
   "cell_type": "code",
   "execution_count": null,
   "id": "f03ba403",
   "metadata": {},
   "outputs": [],
   "source": [
    "pipefinalgbc= make_pipeline(col_trans, CV_gbc)\n",
    "pipefinalgbc.fit(X_train, y_train)"
   ]
  },
  {
   "cell_type": "code",
   "execution_count": null,
   "id": "7417dbf1",
   "metadata": {},
   "outputs": [],
   "source": [
    "print(CV_gbc.best_params_)\n",
    "print(CV_gbc.best_score_)"
   ]
  },
  {
   "cell_type": "markdown",
   "id": "6f0bd5bb",
   "metadata": {},
   "source": [
    "### Combining Multiple Models"
   ]
  },
  {
   "cell_type": "code",
   "execution_count": null,
   "id": "5c565a6a",
   "metadata": {},
   "outputs": [],
   "source": [
    "vc1 = VotingClassifier([('gbc', CV_gbc.best_estimator_),\n",
    "                        ('etc', CV_etc.best_estimator_),\n",
    "                          ('nb', CV_gnb.best_estimator_)\n",
    "                         ], voting='hard', weights=[1,2,3] )"
   ]
  },
  {
   "cell_type": "code",
   "execution_count": null,
   "id": "c6474a4b",
   "metadata": {},
   "outputs": [],
   "source": [
    "vc2 = VotingClassifier([('abc', CV_abc.best_estimator_),\n",
    "                        ('etc', CV_etc.best_estimator_),\n",
    "                          ('nb', CV_gnb.best_estimator_)\n",
    "                         ], voting='hard', weights=[1,2,3] )\n",
    "#1,2,3 is the best performing one"
   ]
  },
  {
   "cell_type": "code",
   "execution_count": null,
   "id": "4ef4d358",
   "metadata": {},
   "outputs": [],
   "source": [
    "pipefinalcv1 = make_pipeline(col_trans, vc1)"
   ]
  },
  {
   "cell_type": "code",
   "execution_count": null,
   "id": "b22da54e",
   "metadata": {},
   "outputs": [],
   "source": [
    "pipefinalcv2 = make_pipeline(col_trans, vc2)"
   ]
  },
  {
   "cell_type": "code",
   "execution_count": null,
   "id": "7ded3083",
   "metadata": {},
   "outputs": [],
   "source": [
    "pipefinalcv1.fit(X_train, y_train)"
   ]
  },
  {
   "cell_type": "code",
   "execution_count": null,
   "id": "e55b87a6",
   "metadata": {},
   "outputs": [],
   "source": [
    "pipefinalcv2.fit(X_train, y_train)"
   ]
  },
  {
   "cell_type": "markdown",
   "id": "ceed63d5",
   "metadata": {},
   "source": [
    "### Sending Prediction"
   ]
  },
  {
   "cell_type": "code",
   "execution_count": null,
   "id": "ffe5b8c5",
   "metadata": {},
   "outputs": [],
   "source": [
    "Y_pred = pipefinalrfc.predict(X_test)\n",
    "Y_pred2 = pipefinaldtc.predict(X_test)\n",
    "Y_pred3 = pipefinalknn.predict(X_test)\n",
    "Y_pred4 = pipefinalsvc.predict(X_test)\n",
    "Y_pred5 = pipefinallr.predict(X_test)\n",
    "Y_pred6 = pipefinalgnb.predict(X_test)\n",
    "Y_pred7 = pipefinalxg.predict(X_test)\n",
    "Y_pred8 = pipefinalabc.predict(X_test)\n",
    "Y_pred9 = pipefinaletc.predict(X_test)\n",
    "Y_pred10 = pipefinalgbc.predict(X_test)\n",
    "Y_pred11 = pipefinalcv1.predict(X_test)\n",
    "Y_pred12 = pipefinalcv2.predict(X_test)"
   ]
  },
  {
   "cell_type": "code",
   "execution_count": null,
   "id": "4e5610ef",
   "metadata": {},
   "outputs": [],
   "source": [
    "submission = pd.DataFrame({\n",
    "    'PassengerId': test_df['PassengerId'],\n",
    "    'Survived': Y_pred\n",
    "})\n",
    "\n",
    "submission2 = pd.DataFrame({\n",
    "    'PassengerId': test_df['PassengerId'],\n",
    "    'Survived': Y_pred2\n",
    "})\n",
    "\n",
    "submission3 = pd.DataFrame({\n",
    "    'PassengerId': test_df['PassengerId'],\n",
    "    'Survived': Y_pred3\n",
    "})\n",
    "\n",
    "submission4 = pd.DataFrame({\n",
    "    'PassengerId': test_df['PassengerId'],\n",
    "    'Survived': Y_pred4\n",
    "})\n",
    "\n",
    "submission5 = pd.DataFrame({\n",
    "    'PassengerId': test_df['PassengerId'],\n",
    "    'Survived': Y_pred5\n",
    "})\n",
    "\n",
    "submission6 = pd.DataFrame({\n",
    "    'PassengerId': test_df['PassengerId'],\n",
    "    'Survived': Y_pred6\n",
    "})\n",
    "\n",
    "submission7 = pd.DataFrame({\n",
    "    'PassengerId': test_df['PassengerId'],\n",
    "    'Survived': Y_pred7\n",
    "})\n",
    "\n",
    "submission8 = pd.DataFrame({\n",
    "    'PassengerId': test_df['PassengerId'],\n",
    "    'Survived': Y_pred8\n",
    "})\n",
    "\n",
    "submission9 = pd.DataFrame({\n",
    "    'PassengerId': test_df['PassengerId'],\n",
    "    'Survived': Y_pred9\n",
    "})\n",
    "\n",
    "submission10 = pd.DataFrame({\n",
    "    'PassengerId': test_df['PassengerId'],\n",
    "    'Survived': Y_pred10\n",
    "})\n",
    "\n",
    "submission11 = pd.DataFrame({\n",
    "        \"PassengerId\": test_df[\"PassengerId\"],\n",
    "        \"Survived\": Y_pred11\n",
    "})\n",
    "\n",
    "submission12 = pd.DataFrame({\n",
    "        \"PassengerId\": test_df[\"PassengerId\"],\n",
    "        \"Survived\": Y_pred12\n",
    "})"
   ]
  },
  {
   "cell_type": "code",
   "execution_count": null,
   "id": "da265481",
   "metadata": {},
   "outputs": [],
   "source": [
    "submission.to_csv('submission929_1.csv', index=False)\n",
    "submission2.to_csv('submission929_2.csv', index=False)\n",
    "submission3.to_csv('submission929_3.csv', index=False)\n",
    "submission4.to_csv('submission929_4.csv', index=False)\n",
    "submission5.to_csv('ubmission929_5.csv', index=False)\n",
    "submission6.to_csv('submission929_6.csv', index=False)\n",
    "submission7.to_csv('submission929_7.csv', index=False)\n",
    "submission8.to_csv('submission101_8.csv', index=False)\n",
    "submission9.to_csv('submission101_9.csv', index=False)\n",
    "submission10.to_csv('submission101_10.csv', index=False)\n",
    "submission11.to_csv('/kaggle/working/submission101_11.csv', index=False)\n",
    "submission12.to_csv('/kaggle/working/submission101_12.csv', index=False)"
   ]
  }
 ],
 "metadata": {
  "kernelspec": {
   "display_name": ".venv",
   "language": "python",
   "name": "python3"
  },
  "language_info": {
   "codemirror_mode": {
    "name": "ipython",
    "version": 3
   },
   "file_extension": ".py",
   "mimetype": "text/x-python",
   "name": "python",
   "nbconvert_exporter": "python",
   "pygments_lexer": "ipython3",
   "version": "3.13.5"
  }
 },
 "nbformat": 4,
 "nbformat_minor": 5
}
